{
 "cells": [
  {
   "cell_type": "markdown",
   "metadata": {},
   "source": [
    "# Questions\n",
    "1. Dinosaurs - considering how long ago dinosaurs existed and how different the world map looked then, do you plan on analyzing the data any differently?\n",
    "2. I went!\n",
    "3. Canis - do you plan on doing anything in addition to looking at the stratigraphic occurences?\n",
    "4. Bat - why don't they fossilize as well?\n",
    "5. Autism data - why was there a gap in detection of autism during the children's childhood?\n",
    "6. Horse - how were you able to get teeth measurements?\n",
    "7. Seagrass - how were the seagrass able to disperse?\n",
    "8. Canidae - what other graphs do you plan on having?\n",
    "9. Aves - why were South Korea and Saudi Arabia so habitable for the two Avian species?\n",
    "10. Anura - is there a way to analyze recent extinctions (as opposed to historical ones)?\n",
    "11. Heteromyidae - why do you think there was a jump in extinction rate in recent times?\n",
    "12. Felidae - do you plan on disproving the Miocene explosion in any other ways?\n",
    "13. Mustelidae - what do you attribute the recent extinctions to?"
   ]
  }
 ],
 "metadata": {
  "anaconda-cloud": {},
  "kernelspec": {
   "display_name": "Python [conda root]",
   "language": "python",
   "name": "conda-root-py"
  },
  "language_info": {
   "codemirror_mode": {
    "name": "ipython",
    "version": 3
   },
   "file_extension": ".py",
   "mimetype": "text/x-python",
   "name": "python",
   "nbconvert_exporter": "python",
   "pygments_lexer": "ipython3",
   "version": "3.5.2"
  }
 },
 "nbformat": 4,
 "nbformat_minor": 2
}
