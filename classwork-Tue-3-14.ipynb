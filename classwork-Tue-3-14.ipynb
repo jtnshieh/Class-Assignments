{
 "cells": [
  {
   "cell_type": "markdown",
   "metadata": {},
   "source": [
    "## Questions for project presentations\n",
    "1. Do you think it would be cool or relevant to your project to look at the current distribution of your species of concern (to maybe notice how overfishing has affected different regions considering what you said about shark fin soup)?\n",
    "2. Do you plan on analyzing in any other way why Canis had the largest occurence of all your species?\n",
    "3. Why did you chooose to look at the geographic distribution in terms of family?\n",
    "4. What made you choose to do your project on this?\n",
    "5. Can you infer something greater about your significant results (i.e. the oak trees had different growths bc of individual differences)?\n",
    "6. How do you plan on taking into account how well the fossils were preserved as a variable?\n",
    "7. Are you potentially looking into how the most ancient crocodile species survived this whole time?\n",
    "8. What are some possible explanations for the migration northwards?\n",
    "9. Why are you interested in analyzing specifically the overlaps between mammals and birds in terms of their geographic distributions?\n",
    "10. Do you plan on analyzing the diveristy through time further?\n",
    "11. What kind of training regimen would promote pushing the triathletes' thresholds?\n",
    "12. What made you decide to look into avian atherosclerosis?\n",
    "13. Do you know why the error bars were so broad?\n",
    "14. Do you know why some of the fossil occurrences have such small ranges?\n",
    "15. How did you find out about this duck species in your initial research?"
   ]
  }
 ],
 "metadata": {
  "anaconda-cloud": {},
  "kernelspec": {
   "display_name": "Python [conda root]",
   "language": "python",
   "name": "conda-root-py"
  },
  "language_info": {
   "codemirror_mode": {
    "name": "ipython",
    "version": 3
   },
   "file_extension": ".py",
   "mimetype": "text/x-python",
   "name": "python",
   "nbconvert_exporter": "python",
   "pygments_lexer": "ipython3",
   "version": "3.5.2"
  }
 },
 "nbformat": 4,
 "nbformat_minor": 2
}
