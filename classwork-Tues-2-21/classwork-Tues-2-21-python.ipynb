{
 "cells": [
  {
   "cell_type": "markdown",
   "metadata": {},
   "source": [
    "**Answers**\n",
    "\n",
    "What does each row in cocoli.txt represent?\n",
    "- Each row represents a tree (one record).\n",
    "\n",
    "What does each row in cocolisp.txt represent?\n",
    "- Each row represents a species."
   ]
  },
  {
   "cell_type": "markdown",
   "metadata": {},
   "source": [
    "**Answers**\n",
    "- It means the size of the stems of the 000011 tree from the second census.\n",
    "- dbh2 refers to the biggest diameter at breast height of the 000011 tree from the second census.\n",
    "- You can find it using this shell command: grep \"CAL2CA\" cocolisp.txt\n",
    "- It is Calycophyllum for genus and candidissimum\tfor species."
   ]
  },
  {
   "cell_type": "markdown",
   "metadata": {},
   "source": [
    "**Discussion with partner**\n",
    "- Some questions we came up with:\n",
    "  1. How has the dbh changed over three censuses?\n",
    "  2. How has recruitment changed for different species?"
   ]
  },
  {
   "cell_type": "markdown",
   "metadata": {},
   "source": [
    "**Guided exploration of the data**\n",
    "1. You can find out with this shell command: sed 's/\\s/,/g' cocolisp.txt | cut -d \",\" -f 2 | tail -n +2 | sort | uniq -c | sort -n               \n",
    "Piper is the most species-rich family.\n",
    "2. You can find out with this shell command: sed 's/\\s/,/g' cocolisp.txt | cut -d \",\" -f 2 | tail -n +2 | sort | uniq -c | sort -n | grep -w \"1\" | wc -l                      \n",
    "There are 99 generas.\n",
    "3. Grep w/ species code"
   ]
  },
  {
   "cell_type": "markdown",
   "metadata": {},
   "source": [
    "**Guided exploration of the data**\n",
    "\n",
    "Which individual had the highest yearly RGR between 1994-1998? Note: Remember that in python, dictionaries are unordered collections.\n",
    "- dictionary for 1994 and dictionary for 1998\n",
    "\n",
    "How can you sort this? \n",
    "- \n",
    "\n",
    "To which species does this individual belong?\n",
    "- "
   ]
  },
  {
   "cell_type": "code",
   "execution_count": null,
   "metadata": {
    "collapsed": true
   },
   "outputs": [],
   "source": []
  }
 ],
 "metadata": {
  "anaconda-cloud": {},
  "kernelspec": {
   "display_name": "Python [default]",
   "language": "python",
   "name": "python3"
  },
  "language_info": {
   "codemirror_mode": {
    "name": "ipython",
    "version": 3
   },
   "file_extension": ".py",
   "mimetype": "text/x-python",
   "name": "python",
   "nbconvert_exporter": "python",
   "pygments_lexer": "ipython3",
   "version": "3.5.2"
  }
 },
 "nbformat": 4,
 "nbformat_minor": 2
}
