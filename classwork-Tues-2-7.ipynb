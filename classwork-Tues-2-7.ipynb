{
 "cells": [
  {
   "cell_type": "markdown",
   "metadata": {},
   "source": [
    "## Defining a programming challenge\n",
    "**Example**: Write a program that asks the user for a temperature in Fahrenheit and prints out the same temperature in Celsius."
   ]
  },
  {
   "cell_type": "markdown",
   "metadata": {},
   "source": [
    "xx = user input of a temp in F       \n",
    "yy = convert xx to C   \n",
    "print yy"
   ]
  },
  {
   "cell_type": "code",
   "execution_count": 2,
   "metadata": {
    "collapsed": false
   },
   "outputs": [
    {
     "name": "stdout",
     "output_type": "stream",
     "text": [
      "What is the temperature in Fahrenheit?75\n",
      "The temperature in Celsius is 23.88888888888889\n"
     ]
    }
   ],
   "source": [
    "temp = input(\"What is the temperature in Fahrenheit?\")\n",
    "cels = (float(temp) - 32) * 5/9\n",
    "print(\"The temperature in Celsius is {}\".format(cels))"
   ]
  },
  {
   "cell_type": "code",
   "execution_count": 15,
   "metadata": {
    "collapsed": false
   },
   "outputs": [
    {
     "name": "stdout",
     "output_type": "stream",
     "text": [
      "[5, 8]\n",
      "[5, 8]\n",
      "[5, 8]\n",
      "[1, 1, 2, 3, 5, 8, 13]\n",
      "[13, 8, 5, 3, 2, 1, 1]\n",
      "{'a': '.-', 'b': '-...', 'c': '-.-.', 'd': '-..'}\n"
     ]
    }
   ],
   "source": [
    "a = [1,1,2,3,5,8]\n",
    "print(a[4:6])\n",
    "print(a[4:])\n",
    "print(a[-2:])\n",
    "a.append(13)\n",
    "print(a)\n",
    "a.reverse()\n",
    "print(a)\n",
    "m = {\"a\":\".-\",\"b\":\"-...-\",\"c\":\"-.-.\"}\n",
    "m[\"d\"] = \"-..\"\n",
    "m[\"b\"] = \"-...\"\n",
    "print(m)"
   ]
  },
  {
   "cell_type": "code",
   "execution_count": 19,
   "metadata": {
    "collapsed": true
   },
   "outputs": [],
   "source": [
    "fam_dict = {\"mom\":\"Jan\",\"dad\":\"Shiuhpyng\"}"
   ]
  },
  {
   "cell_type": "code",
   "execution_count": 17,
   "metadata": {
    "collapsed": false
   },
   "outputs": [
    {
     "data": {
      "text/plain": [
       "'Shiuhpyng'"
      ]
     },
     "execution_count": 17,
     "metadata": {},
     "output_type": "execute_result"
    }
   ],
   "source": [
    "fam_dict[\"dad\"]"
   ]
  },
  {
   "cell_type": "code",
   "execution_count": 23,
   "metadata": {
    "collapsed": false
   },
   "outputs": [
    {
     "name": "stdout",
     "output_type": "stream",
     "text": [
      "{'brother': 'Joseph', 'dad': 'Shiuhpyng', 'mom': 'Jan'}\n"
     ]
    }
   ],
   "source": [
    "fam_dict[\"brother\"] = \"Joseph\"\n",
    "print(fam_dict)"
   ]
  },
  {
   "cell_type": "code",
   "execution_count": 20,
   "metadata": {
    "collapsed": true
   },
   "outputs": [],
   "source": [
    "#Dictionaries are not ordered"
   ]
  },
  {
   "cell_type": "code",
   "execution_count": 25,
   "metadata": {
    "collapsed": false
   },
   "outputs": [
    {
     "name": "stdout",
     "output_type": "stream",
     "text": [
      "Joseph\n",
      "Shiuhpyng\n",
      "Jan\n"
     ]
    }
   ],
   "source": [
    "for key in fam_dict.keys():\n",
    "    print(fam_dict[key])"
   ]
  },
  {
   "cell_type": "code",
   "execution_count": 26,
   "metadata": {
    "collapsed": false
   },
   "outputs": [
    {
     "data": {
      "text/plain": [
       "dict_items([('brother', 'Joseph'), ('dad', 'Shiuhpyng'), ('mom', 'Jan')])"
      ]
     },
     "execution_count": 26,
     "metadata": {},
     "output_type": "execute_result"
    }
   ],
   "source": [
    "fam_dict.items()"
   ]
  },
  {
   "cell_type": "code",
   "execution_count": 27,
   "metadata": {
    "collapsed": false
   },
   "outputs": [
    {
     "name": "stdout",
     "output_type": "stream",
     "text": [
      "OKAY, I SEE YOUUUUUU\n"
     ]
    }
   ],
   "source": [
    "print(\"OKAY, I SEE YOUUUUUU\")"
   ]
  },
  {
   "cell_type": "code",
   "execution_count": 35,
   "metadata": {
    "collapsed": false
   },
   "outputs": [
    {
     "name": "stdout",
     "output_type": "stream",
     "text": [
      "brother Joseph\n",
      "dad Shiuhpyng\n",
      "mom Jan\n"
     ]
    }
   ],
   "source": [
    "for key, value in fam_dict.items():\n",
    "    print(key, value)"
   ]
  },
  {
   "cell_type": "code",
   "execution_count": 36,
   "metadata": {
    "collapsed": false
   },
   "outputs": [
    {
     "data": {
      "text/plain": [
       "('brother', 'Joseph')"
      ]
     },
     "execution_count": 36,
     "metadata": {},
     "output_type": "execute_result"
    }
   ],
   "source": [
    "list(fam_dict.items())[0]"
   ]
  },
  {
   "cell_type": "code",
   "execution_count": 37,
   "metadata": {
    "collapsed": false
   },
   "outputs": [
    {
     "data": {
      "text/plain": [
       "'Joseph'"
      ]
     },
     "execution_count": 37,
     "metadata": {},
     "output_type": "execute_result"
    }
   ],
   "source": [
    "list(fam_dict.items())[0][1]"
   ]
  },
  {
   "cell_type": "code",
   "execution_count": 57,
   "metadata": {
    "collapsed": false
   },
   "outputs": [
    {
     "name": "stdout",
     "output_type": "stream",
     "text": [
      "['brother', 'dad', 'mom']\n",
      "['mom', 'dad', 'brother']\n"
     ]
    }
   ],
   "source": [
    "family = list(fam_dict.keys())\n",
    "family.sort()\n",
    "print(family)\n",
    "family.reverse()\n",
    "print(family)"
   ]
  },
  {
   "cell_type": "code",
   "execution_count": 59,
   "metadata": {
    "collapsed": false
   },
   "outputs": [
    {
     "name": "stdout",
     "output_type": "stream",
     "text": [
      "mom Jan\n",
      "dad Shiuhpyng\n",
      "brother Joseph\n"
     ]
    }
   ],
   "source": [
    "for key in family:\n",
    "    print(key,fam_dict[key])"
   ]
  },
  {
   "cell_type": "code",
   "execution_count": 60,
   "metadata": {
    "collapsed": true
   },
   "outputs": [],
   "source": [
    "#The zip method brings two lists together to form a dictionary"
   ]
  },
  {
   "cell_type": "code",
   "execution_count": 63,
   "metadata": {
    "collapsed": true
   },
   "outputs": [],
   "source": [
    "FoodWeb = [(\"a\",\"b\"),(\"a\",\"c\")]"
   ]
  },
  {
   "cell_type": "code",
   "execution_count": 65,
   "metadata": {
    "collapsed": false
   },
   "outputs": [
    {
     "data": {
      "text/plain": [
       "tuple"
      ]
     },
     "execution_count": 65,
     "metadata": {},
     "output_type": "execute_result"
    }
   ],
   "source": [
    "type(FoodWeb[0])"
   ]
  },
  {
   "cell_type": "code",
   "execution_count": 66,
   "metadata": {
    "collapsed": true
   },
   "outputs": [],
   "source": [
    "a = [5,6,7,7,7,8,9,9]"
   ]
  },
  {
   "cell_type": "code",
   "execution_count": 67,
   "metadata": {
    "collapsed": false
   },
   "outputs": [
    {
     "data": {
      "text/plain": [
       "{5, 6, 7, 8, 9}"
      ]
     },
     "execution_count": 67,
     "metadata": {},
     "output_type": "execute_result"
    }
   ],
   "source": [
    "set(a)"
   ]
  },
  {
   "cell_type": "code",
   "execution_count": null,
   "metadata": {
    "collapsed": true
   },
   "outputs": [],
   "source": [
    "#Set removes all the duplicate elements "
   ]
  }
 ],
 "metadata": {
  "anaconda-cloud": {},
  "kernelspec": {
   "display_name": "Python [default]",
   "language": "python",
   "name": "python3"
  },
  "language_info": {
   "codemirror_mode": {
    "name": "ipython",
    "version": 3
   },
   "file_extension": ".py",
   "mimetype": "text/x-python",
   "name": "python",
   "nbconvert_exporter": "python",
   "pygments_lexer": "ipython3",
   "version": "3.5.2"
  }
 },
 "nbformat": 4,
 "nbformat_minor": 2
}
